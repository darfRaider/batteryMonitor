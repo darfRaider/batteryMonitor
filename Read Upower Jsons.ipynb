{
 "cells": [
  {
   "cell_type": "code",
   "execution_count": null,
   "id": "8010fce6-5498-4f0c-8e36-4e786bf61915",
   "metadata": {},
   "outputs": [],
   "source": [
    "from pathlib import Path\n",
    "import os\n",
    "import re\n",
    "import datetime\n",
    "import warnings\n",
    "from shutil import copyfile\n",
    "from dataclasses import dataclass\n",
    "import json\n",
    "import pandas as pd\n",
    "import numpy as np\n",
    "\n",
    "BACKUP_DIR = Path(\"./backups\")\n",
    "UPOWER_BACKUP_DIR = BACKUP_DIR / \"upower\""
   ]
  },
  {
   "cell_type": "code",
   "execution_count": null,
   "id": "d8dc9091-0799-47d1-825f-d3d26de942f2",
   "metadata": {
    "scrolled": true
   },
   "outputs": [],
   "source": [
    "json_file_names = os.listdir(UPOWER_BACKUP_DIR)\n",
    "data = []\n",
    "for filename in json_file_names:\n",
    "    with open(UPOWER_BACKUP_DIR / filename, \"r\", encoding=\"utf8\") as f:\n",
    "        data.append(json.load(f))\n",
    "len(json_file_names)\n",
    "df = pd.DataFrame(data).sort_values(\"created_utc\")\n",
    "df['date'] = df['created_utc'].transform(datetime.datetime.fromtimestamp)"
   ]
  },
  {
   "cell_type": "code",
   "execution_count": null,
   "id": "7bb28489",
   "metadata": {},
   "outputs": [],
   "source": [
    "static_fields = [\"vendor\", \"model\", \"serial_nr\"]\n",
    "static_fields_df = df[static_fields].drop_duplicates()\n",
    "assert len(static_fields_df) == 1, \"There should be only a single value for static fields\"\n",
    "static_fields_df.iloc[0].to_dict()"
   ]
  },
  {
   "cell_type": "code",
   "execution_count": null,
   "id": "7cca26c3-87d8-4eb7-a72a-24cb1f794346",
   "metadata": {},
   "outputs": [],
   "source": [
    "df.set_index(\"created_utc\")['energy'].plot()"
   ]
  },
  {
   "cell_type": "code",
   "execution_count": null,
   "id": "5091bbdc-a077-461c-a25b-af87a7e32236",
   "metadata": {},
   "outputs": [],
   "source": [
    "df.charge_cycles"
   ]
  },
  {
   "cell_type": "code",
   "execution_count": null,
   "id": "7cffd384-5287-406f-97ad-2687fd6c017f",
   "metadata": {},
   "outputs": [],
   "source": [
    "## TODO Print out battery model\n",
    "\n",
    "data = [\n",
    "    {\n",
    "        \"description\": \"Discharge at constant power consumption. (No work done at pc)\",\n",
    "        \"min_ts\": 1706085300,\n",
    "        \"max_ts\": 1706094734,\n",
    "    },\n",
    "    {\n",
    "        \"description\": \"Zugfahrt Basel - Zuerich, kein Docker Container und kein Notebook am laufen\",\n",
    "        \"min_ts\": 1707023500,\n",
    "        \"max_ts\": 1707026694,\n",
    "    },\n",
    "    {\n",
    "        \"description\": \"Discharge Run 1\",\n",
    "        \"min_ts\": 1708816000,\n",
    "        \"max_ts\": 1708819050,\n",
    "    },\n",
    "    {\n",
    "        \"description\": \"Discharge Run 2\",\n",
    "        \"min_ts\": 1708820000,\n",
    "        \"max_ts\": 1708820000 + 3200,\n",
    "    }\n",
    "]\n",
    "\n",
    "idx = 3\n",
    "\n",
    "min_ts = data[idx]['min_ts']\n",
    "max_ts = data[idx]['max_ts']\n",
    "check_df = df.loc[(df['created_utc'] >= min_ts) & (df['created_utc'] <= max_ts)]\n",
    "\n",
    "check_df.set_index(\"created_utc\")['energy'].plot()\n",
    "check_df.set_index(\"created_utc\")['energy_rate'].plot()\n",
    "\n",
    "print(f\"Period from '{datetime.datetime.fromtimestamp(check_df['created_utc'].min())}' ({check_df['created_utc'].min()}) to\"\n",
    "      f\" '{datetime.datetime.fromtimestamp(check_df['created_utc'].max())}'\")"
   ]
  },
  {
   "cell_type": "code",
   "execution_count": null,
   "id": "b12e4ab8",
   "metadata": {},
   "outputs": [],
   "source": [
    "from matplotlib import pyplot as plt\n",
    "\n",
    "fig, axs = plt.subplots(len(data))\n",
    "dfs = []\n",
    "\n",
    "for idx in range(len(data)):\n",
    "    min_ts = data[idx]['min_ts']\n",
    "    max_ts = data[idx]['max_ts']\n",
    "    check_df = df.loc[(df['created_utc'] >= min_ts) & (df['created_utc'] <= max_ts)]\n",
    "    dfs.append(check_df)\n",
    "    check_df.set_index(\"created_utc\")['energy'].plot(ax=axs[idx])\n",
    "    check_df.set_index(\"created_utc\")['energy_rate'].plot(ax=axs[idx])"
   ]
  },
  {
   "cell_type": "code",
   "execution_count": null,
   "id": "3bde5dd4-bebc-4b6a-ab86-d614e2ad908e",
   "metadata": {},
   "outputs": [],
   "source": [
    "from sklearn.linear_model import LinearRegression\n",
    "import numpy as np\n",
    "model = LinearRegression()"
   ]
  },
  {
   "cell_type": "code",
   "execution_count": null,
   "id": "cb26bec1-89ca-4d23-ac9c-0918c8feaa0f",
   "metadata": {},
   "outputs": [],
   "source": [
    "data = []\n",
    "dates = {\n",
    "    'min': None,\n",
    "    'max': None\n",
    "}\n",
    "for check_df in dfs:\n",
    "    if dates['min'] is None or dates['min'] > df['date'].min():\n",
    "        dates['min'] = df['date'].min()\n",
    "    if dates['max'] is None or dates['max'] < df['date'].max():\n",
    "        dates['max'] = df['date'].max()\n",
    "    y = check_df.set_index(\"created_utc\")['energy']\n",
    "    x = np.array(check_df['created_utc']).reshape((-1, 1))\n",
    "    model = model.fit(x, y)\n",
    "    data.append({\n",
    "        \"factor\": model.coef_[0]/check_df.energy_rate.mean(),\n",
    "        \"discharge_rate\": model.coef_[0],\n",
    "        \"power_mean\": check_df.energy_rate.mean(),\n",
    "        \"power_std\": check_df.energy_rate.std(),\n",
    "    })\n",
    "    "
   ]
  },
  {
   "cell_type": "code",
   "execution_count": null,
   "id": "fe82b749",
   "metadata": {},
   "outputs": [],
   "source": []
  },
  {
   "cell_type": "code",
   "execution_count": null,
   "id": "0c9f12b3-3a51-49a6-997f-cbd7fa65af7a",
   "metadata": {},
   "outputs": [],
   "source": [
    "battery_stats = {\n",
    "    \"factor_avg\": pd.DataFrame(data).factor.mean(),\n",
    "    \"factor_std\": pd.DataFrame(data).factor.std(),\n",
    "    \"energy_full_avg\": df['energy_full'].mean(),\n",
    "    \"energy_full_std\": df['energy_full'].std(),\n",
    "}"
   ]
  },
  {
   "cell_type": "code",
   "execution_count": null,
   "id": "18b01619",
   "metadata": {},
   "outputs": [],
   "source": []
  },
  {
   "cell_type": "code",
   "execution_count": null,
   "id": "a096e285",
   "metadata": {},
   "outputs": [],
   "source": []
  },
  {
   "cell_type": "code",
   "execution_count": null,
   "id": "de87c1f2",
   "metadata": {},
   "outputs": [],
   "source": [
    "battery_stats = {\n",
    "    \"date\": str(datetime.datetime.now().date()),\n",
    "    \"measuring_period\": f\"{dates['min'].date()} - {dates['max'].date()}\",\n",
    "    **static_fields_df.iloc[0].to_dict(),\n",
    "    **battery_stats,\n",
    "}"
   ]
  },
  {
   "cell_type": "code",
   "execution_count": null,
   "id": "89bddbb0",
   "metadata": {},
   "outputs": [],
   "source": [
    "battery_stats"
   ]
  },
  {
   "cell_type": "code",
   "execution_count": null,
   "id": "c2b76da1",
   "metadata": {},
   "outputs": [],
   "source": []
  }
 ],
 "metadata": {
  "kernelspec": {
   "display_name": "Python 3 (ipykernel)",
   "language": "python",
   "name": "python3"
  },
  "language_info": {
   "codemirror_mode": {
    "name": "ipython",
    "version": 3
   },
   "file_extension": ".py",
   "mimetype": "text/x-python",
   "name": "python",
   "nbconvert_exporter": "python",
   "pygments_lexer": "ipython3",
   "version": "3.11.5"
  }
 },
 "nbformat": 4,
 "nbformat_minor": 5
}
